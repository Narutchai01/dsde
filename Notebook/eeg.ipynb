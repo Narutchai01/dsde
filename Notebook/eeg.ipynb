{
 "cells": [
  {
   "cell_type": "code",
   "execution_count": 15,
   "metadata": {},
   "outputs": [],
   "source": [
    "import pandas as pd\n",
    "import numpy as np\n",
    "import psycopg2 as pg \n"
   ]
  },
  {
   "cell_type": "code",
   "execution_count": 16,
   "metadata": {},
   "outputs": [],
   "source": [
    "conn = pg.connect(\n",
    "    host=\"localhost\",\n",
    "    database=\"eeg\",\n",
    "    user=\"admin\",\n",
    "    password=\"admin123\",\n",
    "    port=5432\n",
    ")\n",
    "\n",
    "cur = conn.cursor()"
   ]
  },
  {
   "cell_type": "markdown",
   "metadata": {},
   "source": [
    "# Import date "
   ]
  },
  {
   "cell_type": "code",
   "execution_count": 17,
   "metadata": {},
   "outputs": [],
   "source": [
    "data = pd.read_csv(r'D:\\Work\\DSDE\\Notebook\\dataset\\ds004902-1.0.5\\participants.tsv', sep='\\t')\n",
    "dataArray = data.to_numpy()"
   ]
  },
  {
   "cell_type": "code",
   "execution_count": 18,
   "metadata": {},
   "outputs": [],
   "source": [
    "def checkSleep(sleep):\n",
    "    if sleep == 'NS->SD':\n",
    "        return 'good sleep'\n",
    "    else:\n",
    "        return 'bad sleep'"
   ]
  },
  {
   "cell_type": "markdown",
   "metadata": {},
   "source": [
    "# insert participant's into database"
   ]
  },
  {
   "cell_type": "code",
   "execution_count": 19,
   "metadata": {},
   "outputs": [],
   "source": [
    "\n",
    "try:\n",
    "    for i in range(len(dataArray)):\n",
    "        cur.execute(\"\"\"INSERT INTO participant (participant_id,gender,age,session_order,sleep_status) VALUES (%s, %s, %s, %s,%s)\"\"\", (dataArray[i][0], dataArray[i][1], dataArray[i][2], dataArray[i][3], checkSleep(dataArray[i][3])))\n",
    "    conn.commit()\n",
    "except Exception as e:\n",
    "    print(f\"An error occurred: {e}\")\n",
    "    conn.rollback()\n"
   ]
  },
  {
   "cell_type": "markdown",
   "metadata": {},
   "source": [
    "# definde Function insert Details"
   ]
  },
  {
   "cell_type": "code",
   "execution_count": 20,
   "metadata": {},
   "outputs": [],
   "source": [
    "def insert_details(id, participant_id):\n",
    "    cur = conn.cursor()\n",
    "\n",
    "    for i in range(len(datadetailsArray)):\n",
    "        channelName = datadetailsArray[i][0].lower()\n",
    "        x = datadetailsArray[i][1]\n",
    "        y = datadetailsArray[i][2]\n",
    "        z = datadetailsArray[i][3]\n",
    "        manufacturer = datadetailsArray[i][4]\n",
    "        sqlinsert = f\"INSERT INTO eegdetails (id,participant_id, x_{channelName}, y_{channelName}, z_{channelName}) VALUES ('{id}', '{participant_id}', {x}, {y}, {z})\"\n",
    "        sqlupdate = f\"UPDATE eegdetails SET x_{channelName} = {x}, y_{channelName} = {y}, z_{channelName}  = {z} WHERE participant_id = '{participant_id}' and id = '{id}'\"\n",
    "        sqlmanufacturer = f\"UPDATE eegdetails SET manufacturer = '{manufacturer}'  WHERE participant_id = '{participant_id}' and id = '{id}'\"\n",
    "        if i == 0:\n",
    "            cur.execute(sqlinsert)\n",
    "            conn.commit()\n",
    "        elif i == len(datadetailsArray)-1:\n",
    "            cur.execute(sqlmanufacturer)\n",
    "            cur.execute(sqlupdate)\n",
    "            conn.commit()\n",
    "        else:\n",
    "            cur.execute(sqlupdate)\n",
    "            conn.commit()\n",
    "\n",
    "    cur.close()"
   ]
  },
  {
   "cell_type": "code",
   "execution_count": 21,
   "metadata": {},
   "outputs": [
    {
     "name": "stderr",
     "output_type": "stream",
     "text": [
      "C:\\Users\\koonf\\AppData\\Local\\Temp\\ipykernel_31040\\2559608763.py:1: UserWarning: pandas only supports SQLAlchemy connectable (engine/connection) or database string URI or sqlite3 DBAPI2 connection. Other DBAPI2 objects are not tested. Please consider using SQLAlchemy.\n",
      "  dataParticipant = pd.read_sql_query(\"SELECT id,participant_id FROM participant\", conn)\n"
     ]
    }
   ],
   "source": [
    "dataParticipant = pd.read_sql_query(\"SELECT id,participant_id FROM participant\", conn)\n",
    "\n",
    "\n",
    "dataParticipantArray = dataParticipant.to_numpy()\n",
    "\n",
    "for i in range(len(dataParticipantArray)):\n",
    "    participant_id = dataParticipantArray[i][1]\n",
    "    filepath = rf\"D:\\Work\\DSDE\\Notebook\\dataset\\ds004902-1.0.5\\{participant_id}\\ses-1\\eeg\\{participant_id}_ses-1_electrodes.tsv\"\n",
    "    datadetails = pd.read_csv(filepath, sep='\\t')\n",
    "    datadetailsArray = datadetails.to_numpy()\n",
    "    insert_details(dataParticipantArray[i][0], participant_id)\n"
   ]
  },
  {
   "cell_type": "code",
   "execution_count": 22,
   "metadata": {},
   "outputs": [
    {
     "name": "stderr",
     "output_type": "stream",
     "text": [
      "C:\\Users\\koonf\\AppData\\Local\\Temp\\ipykernel_31040\\91266679.py:1: UserWarning: pandas only supports SQLAlchemy connectable (engine/connection) or database string URI or sqlite3 DBAPI2 connection. Other DBAPI2 objects are not tested. Please consider using SQLAlchemy.\n",
      "  showData = pd.read_sql_query(\"SELECT * FROM participant;\", conn)\n"
     ]
    },
    {
     "data": {
      "text/html": [
       "<div>\n",
       "<style scoped>\n",
       "    .dataframe tbody tr th:only-of-type {\n",
       "        vertical-align: middle;\n",
       "    }\n",
       "\n",
       "    .dataframe tbody tr th {\n",
       "        vertical-align: top;\n",
       "    }\n",
       "\n",
       "    .dataframe thead th {\n",
       "        text-align: right;\n",
       "    }\n",
       "</style>\n",
       "<table border=\"1\" class=\"dataframe\">\n",
       "  <thead>\n",
       "    <tr style=\"text-align: right;\">\n",
       "      <th></th>\n",
       "      <th>id</th>\n",
       "      <th>participant_id</th>\n",
       "      <th>gender</th>\n",
       "      <th>age</th>\n",
       "      <th>session_order</th>\n",
       "      <th>sleep_status</th>\n",
       "    </tr>\n",
       "  </thead>\n",
       "  <tbody>\n",
       "    <tr>\n",
       "      <th>0</th>\n",
       "      <td>1</td>\n",
       "      <td>sub-01</td>\n",
       "      <td>M</td>\n",
       "      <td>22</td>\n",
       "      <td>NS-&gt;SD</td>\n",
       "      <td>good sleep</td>\n",
       "    </tr>\n",
       "    <tr>\n",
       "      <th>1</th>\n",
       "      <td>2</td>\n",
       "      <td>sub-02</td>\n",
       "      <td>M</td>\n",
       "      <td>21</td>\n",
       "      <td>NS-&gt;SD</td>\n",
       "      <td>good sleep</td>\n",
       "    </tr>\n",
       "    <tr>\n",
       "      <th>2</th>\n",
       "      <td>3</td>\n",
       "      <td>sub-03</td>\n",
       "      <td>F</td>\n",
       "      <td>19</td>\n",
       "      <td>NS-&gt;SD</td>\n",
       "      <td>good sleep</td>\n",
       "    </tr>\n",
       "    <tr>\n",
       "      <th>3</th>\n",
       "      <td>4</td>\n",
       "      <td>sub-04</td>\n",
       "      <td>M</td>\n",
       "      <td>22</td>\n",
       "      <td>NS-&gt;SD</td>\n",
       "      <td>good sleep</td>\n",
       "    </tr>\n",
       "    <tr>\n",
       "      <th>4</th>\n",
       "      <td>5</td>\n",
       "      <td>sub-05</td>\n",
       "      <td>F</td>\n",
       "      <td>18</td>\n",
       "      <td>NS-&gt;SD</td>\n",
       "      <td>good sleep</td>\n",
       "    </tr>\n",
       "    <tr>\n",
       "      <th>...</th>\n",
       "      <td>...</td>\n",
       "      <td>...</td>\n",
       "      <td>...</td>\n",
       "      <td>...</td>\n",
       "      <td>...</td>\n",
       "      <td>...</td>\n",
       "    </tr>\n",
       "    <tr>\n",
       "      <th>66</th>\n",
       "      <td>67</td>\n",
       "      <td>sub-67</td>\n",
       "      <td>F</td>\n",
       "      <td>21</td>\n",
       "      <td>SD-&gt;NS</td>\n",
       "      <td>bad sleep</td>\n",
       "    </tr>\n",
       "    <tr>\n",
       "      <th>67</th>\n",
       "      <td>68</td>\n",
       "      <td>sub-68</td>\n",
       "      <td>F</td>\n",
       "      <td>21</td>\n",
       "      <td>SD-&gt;NS</td>\n",
       "      <td>bad sleep</td>\n",
       "    </tr>\n",
       "    <tr>\n",
       "      <th>68</th>\n",
       "      <td>69</td>\n",
       "      <td>sub-69</td>\n",
       "      <td>F</td>\n",
       "      <td>18</td>\n",
       "      <td>NS-&gt;SD</td>\n",
       "      <td>good sleep</td>\n",
       "    </tr>\n",
       "    <tr>\n",
       "      <th>69</th>\n",
       "      <td>70</td>\n",
       "      <td>sub-70</td>\n",
       "      <td>M</td>\n",
       "      <td>19</td>\n",
       "      <td>NS-&gt;SD</td>\n",
       "      <td>good sleep</td>\n",
       "    </tr>\n",
       "    <tr>\n",
       "      <th>70</th>\n",
       "      <td>71</td>\n",
       "      <td>sub-71</td>\n",
       "      <td>M</td>\n",
       "      <td>21</td>\n",
       "      <td>NS-&gt;SD</td>\n",
       "      <td>good sleep</td>\n",
       "    </tr>\n",
       "  </tbody>\n",
       "</table>\n",
       "<p>71 rows × 6 columns</p>\n",
       "</div>"
      ],
      "text/plain": [
       "    id participant_id gender  age session_order sleep_status\n",
       "0    1         sub-01      M   22        NS->SD   good sleep\n",
       "1    2         sub-02      M   21        NS->SD   good sleep\n",
       "2    3         sub-03      F   19        NS->SD   good sleep\n",
       "3    4         sub-04      M   22        NS->SD   good sleep\n",
       "4    5         sub-05      F   18        NS->SD   good sleep\n",
       "..  ..            ...    ...  ...           ...          ...\n",
       "66  67         sub-67      F   21        SD->NS    bad sleep\n",
       "67  68         sub-68      F   21        SD->NS    bad sleep\n",
       "68  69         sub-69      F   18        NS->SD   good sleep\n",
       "69  70         sub-70      M   19        NS->SD   good sleep\n",
       "70  71         sub-71      M   21        NS->SD   good sleep\n",
       "\n",
       "[71 rows x 6 columns]"
      ]
     },
     "execution_count": 22,
     "metadata": {},
     "output_type": "execute_result"
    }
   ],
   "source": [
    "showData = pd.read_sql_query(\"SELECT * FROM participant;\", conn)\n",
    "\n",
    "showData"
   ]
  }
 ],
 "metadata": {
  "kernelspec": {
   "display_name": "base",
   "language": "python",
   "name": "python3"
  },
  "language_info": {
   "codemirror_mode": {
    "name": "ipython",
    "version": 3
   },
   "file_extension": ".py",
   "mimetype": "text/x-python",
   "name": "python",
   "nbconvert_exporter": "python",
   "pygments_lexer": "ipython3",
   "version": "3.12.4"
  }
 },
 "nbformat": 4,
 "nbformat_minor": 2
}
